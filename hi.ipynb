{
 "cells": [
  {
   "cell_type": "code",
   "execution_count": 23,
   "metadata": {},
   "outputs": [],
   "source": [
    "from models.yolo import *\n",
    "PATH_WEIGHT = './models/best.pt'\n",
    "PATH = '/root/Public/pretrained/best.pt'\n",
    "\n",
    "net = Model('/root/helmet_det/yolov7-main/cfg/training/yolov7.yaml').to('cuda')\n",
    "state_dict = torch.load(PATH, map_location='cuda')['model'].state_dict()\n",
    "net.load_state_dict(state_dict, strict=False)\n",
    "\n",
    "a = torch.load(PATH_WEIGHT, map_location='cuda')['model']\n",
    "#print(a)"
   ]
  },
  {
   "cell_type": "code",
   "execution_count": 5,
   "metadata": {},
   "outputs": [
    {
     "name": "stdout",
     "output_type": "stream",
     "text": [
      "카카오 토큰 갱신: {'access_token': 'GZmcyUB9Wanu7dSzEu0S-IjqLe5Q5XaqRyTFbdkcCinJXgAAAYUo5QFY', 'token_type': 'bearer', 'expires_in': 21599}\n",
      "access_token :  GZmcyUB9Wanu7dSzEu0S-IjqLe5Q5XaqRyTFbdkcCinJXgAAAYUo5QFY\n"
     ]
    },
    {
     "ename": "AttributeError",
     "evalue": "'Kakao_friend' object has no attribute 'send_to_multi_friend'",
     "output_type": "error",
     "traceback": [
      "\u001b[0;31m---------------------------------------------------------------------------\u001b[0m",
      "\u001b[0;31mAttributeError\u001b[0m                            Traceback (most recent call last)",
      "\u001b[1;32m/root/yolov7-main/hi.ipynb 셀 2\u001b[0m in \u001b[0;36m<cell line: 4>\u001b[0;34m()\u001b[0m\n\u001b[1;32m      <a href='vscode-notebook-cell://ssh-remote%2Bweek6/root/yolov7-main/hi.ipynb#W1sdnNjb2RlLXJlbW90ZQ%3D%3D?line=0'>1</a>\u001b[0m \u001b[39mfrom\u001b[39;00m \u001b[39mkakao\u001b[39;00m \u001b[39mimport\u001b[39;00m kakao_friend\n\u001b[1;32m      <a href='vscode-notebook-cell://ssh-remote%2Bweek6/root/yolov7-main/hi.ipynb#W1sdnNjb2RlLXJlbW90ZQ%3D%3D?line=2'>3</a>\u001b[0m a \u001b[39m=\u001b[39m kakao_friend\u001b[39m.\u001b[39mKakao_friend()\n\u001b[0;32m----> <a href='vscode-notebook-cell://ssh-remote%2Bweek6/root/yolov7-main/hi.ipynb#W1sdnNjb2RlLXJlbW90ZQ%3D%3D?line=3'>4</a>\u001b[0m a\u001b[39m.\u001b[39;49msend_to_multi_friend(text\u001b[39m=\u001b[39m\u001b[39m'\u001b[39m\u001b[39mhi\u001b[39m\u001b[39m'\u001b[39m)\n",
      "\u001b[0;31mAttributeError\u001b[0m: 'Kakao_friend' object has no attribute 'send_to_multi_friend'"
     ]
    }
   ],
   "source": [
    "from kakao.kakao_friend import Kakao_friend\n",
    "\n",
    "a = Kakao_friend()\n",
    "a.send_to_multi_friend(text='hi')"
   ]
  },
  {
   "cell_type": "code",
   "execution_count": null,
   "metadata": {},
   "outputs": [],
   "source": []
  }
 ],
 "metadata": {
  "kernelspec": {
   "display_name": "Python 3.8.13 ('base')",
   "language": "python",
   "name": "python3"
  },
  "language_info": {
   "codemirror_mode": {
    "name": "ipython",
    "version": 3
   },
   "file_extension": ".py",
   "mimetype": "text/x-python",
   "name": "python",
   "nbconvert_exporter": "python",
   "pygments_lexer": "ipython3",
   "version": "3.8.13"
  },
  "orig_nbformat": 4,
  "vscode": {
   "interpreter": {
    "hash": "d4d1e4263499bec80672ea0156c357c1ee493ec2b1c70f0acce89fc37c4a6abe"
   }
  }
 },
 "nbformat": 4,
 "nbformat_minor": 2
}
